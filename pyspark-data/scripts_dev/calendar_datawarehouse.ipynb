{
 "cells": [
  {
   "cell_type": "code",
   "execution_count": 1,
   "id": "c100cba5-241c-44eb-a5c9-6796a84a92bf",
   "metadata": {},
   "outputs": [],
   "source": [
    "try:\n",
    "    import psycopg2\n",
    "except ModuleNotFoundError:\n",
    "    !pip install psycopg2-binary"
   ]
  },
  {
   "cell_type": "code",
   "execution_count": 2,
   "id": "8bf15cdd-001b-4a64-89b3-31aecc43781d",
   "metadata": {},
   "outputs": [],
   "source": [
    "import pyspark.sql.functions as F\n",
    "import datetime\n",
    "import pandas as pd\n",
    "import pyarrow as pa\n",
    "import pyarrow.parquet as pq\n",
    "import psycopg2 \n",
    "from pyspark.sql import SparkSession\n",
    "from pyspark.sql.types import DateType\n",
    "from datetime import datetime, timedelta"
   ]
  },
  {
   "cell_type": "code",
   "execution_count": 3,
   "id": "4f033e28-8b67-44c9-b8d1-331db933122c",
   "metadata": {},
   "outputs": [],
   "source": [
    "# Spark session & context\n",
    "spark = (\n",
    "    SparkSession\n",
    "    .builder\n",
    "    .config(\"spark.jars.packages\", \"org.postgresql:postgresql:42.5.2\")\n",
    "    .master(\"local\")\n",
    "    .getOrCreate()\n",
    ")\n",
    "\n",
    "sc = spark.sparkContext"
   ]
  },
  {
   "cell_type": "code",
   "execution_count": 4,
   "id": "a25db70d-d875-43ed-90da-da2bdb50ed00",
   "metadata": {},
   "outputs": [],
   "source": [
    "# First date of dataframe\n",
    "base_date_str = '2000/01/01'\n",
    "base_date = datetime.strptime(base_date_str, '%Y/%m/%d')"
   ]
  },
  {
   "cell_type": "code",
   "execution_count": 5,
   "id": "35191645-5080-4861-8685-4af911758fda",
   "metadata": {},
   "outputs": [],
   "source": [
    "# List of 100 years, from year 2000.\n",
    "date_list = [base_date + timedelta(days=x) for x in range(36500)]"
   ]
  },
  {
   "cell_type": "code",
   "execution_count": 6,
   "id": "a103f4f7-ae01-4a3f-80f1-497b681fa6b2",
   "metadata": {},
   "outputs": [],
   "source": [
    "# Creating data frame from list\n",
    "df_dimcalendario = spark.createDataFrame(date_list, DateType())"
   ]
  },
  {
   "cell_type": "code",
   "execution_count": 7,
   "id": "b081e2a7-37c7-4a99-8dd8-98ffd325458e",
   "metadata": {},
   "outputs": [],
   "source": [
    "# Creating columns\n",
    "df_dimcalendario_2 = (\n",
    "    df_dimcalendario\n",
    "    .select(\n",
    "        F.to_date(F.col('value'), 'YYYY-mm-dd').alias('date_full')\n",
    "        ,F.date_format(F.col('value'), \"y\").cast('int').alias('year')\n",
    "        ,F.date_format(F.col('value'), \"M\").cast('int').alias('month')\n",
    "        ,F.date_format(F.col('value'), \"MMMM\").alias('month_name')\n",
    "        ,F.date_format(F.col('value'), \"d\").cast('int').alias('day')\n",
    "        ,F.dayofweek(F.col('value')).cast('int').alias(\"day_of_week_number\")\n",
    "        ,F.date_format(F.col('value'), \"EEEE\").alias('day_of_week_name')\n",
    "        ,F.dayofyear(F.col('value')).cast('int').alias(\"day_of_year\")\n",
    "        ,F.date_format(F.col('value'), \"QQQ\").alias('quarter_of_year')\n",
    "        ,F.weekofyear(F.col('value')).cast('int').alias(\"week_of_year\")\n",
    "    )    \n",
    ")"
   ]
  },
  {
   "cell_type": "code",
   "execution_count": 8,
   "id": "1a881e40-6050-4aa8-b3f4-fbfd885cf742",
   "metadata": {},
   "outputs": [
    {
     "name": "stdout",
     "output_type": "stream",
     "text": [
      "root\n",
      " |-- date_full: date (nullable = true)\n",
      " |-- year: integer (nullable = true)\n",
      " |-- month: integer (nullable = true)\n",
      " |-- month_name: string (nullable = true)\n",
      " |-- day: integer (nullable = true)\n",
      " |-- day_of_week_number: integer (nullable = true)\n",
      " |-- day_of_week_name: string (nullable = true)\n",
      " |-- day_of_year: integer (nullable = true)\n",
      " |-- quarter_of_year: string (nullable = true)\n",
      " |-- week_of_year: integer (nullable = true)\n",
      "\n"
     ]
    }
   ],
   "source": [
    "df_dimcalendario_2.printSchema() "
   ]
  },
  {
   "cell_type": "code",
   "execution_count": 9,
   "id": "f7e5f361-bb2e-41f1-b0e3-1afa68918150",
   "metadata": {},
   "outputs": [],
   "source": [
    "properties = {\n",
    "    \"user\": \"postgres\",\n",
    "    \"password\": \"Postgres123!\",\n",
    "    \"driver\": \"org.postgresql.Driver\"\n",
    "}\n",
    "\n",
    "url = \"jdbc:postgresql://postgres-datawarehouse:5432/postgres\"\n",
    "result_table_name = \"dim_calendar\"\n",
    "\n",
    "df_dimcalendario_2.write.jdbc(url, result_table_name, mode=\"overwrite\", properties=properties)"
   ]
  },
  {
   "cell_type": "code",
   "execution_count": null,
   "id": "8a6c403d-87a6-4852-9ece-6b6f1a81bdd2",
   "metadata": {},
   "outputs": [],
   "source": []
  }
 ],
 "metadata": {
  "kernelspec": {
   "display_name": "Python 3 (ipykernel)",
   "language": "python",
   "name": "python3"
  },
  "language_info": {
   "codemirror_mode": {
    "name": "ipython",
    "version": 3
   },
   "file_extension": ".py",
   "mimetype": "text/x-python",
   "name": "python",
   "nbconvert_exporter": "python",
   "pygments_lexer": "ipython3",
   "version": "3.11.6"
  }
 },
 "nbformat": 4,
 "nbformat_minor": 5
}
