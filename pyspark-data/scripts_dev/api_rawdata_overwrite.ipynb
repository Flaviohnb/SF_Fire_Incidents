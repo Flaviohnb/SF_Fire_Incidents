{
 "cells": [
  {
   "cell_type": "code",
   "execution_count": 1,
   "id": "4cb8a1eb-ca28-47b1-9f58-492176b62a5f",
   "metadata": {},
   "outputs": [],
   "source": [
    "#!pip install sodapy\n",
    "\n",
    "try:\n",
    "    from sodapy import Socrata\n",
    "except ModuleNotFoundError:\n",
    "    !pip install sodapy"
   ]
  },
  {
   "cell_type": "code",
   "execution_count": 2,
   "id": "93515421-d1ce-434e-9a0f-5a0314d6c3e8",
   "metadata": {},
   "outputs": [],
   "source": [
    "from sodapy import Socrata\n",
    "from pyspark.sql import SparkSession\n",
    "import datetime\n",
    "import pandas as pd\n",
    "import pyarrow as pa\n",
    "import pyarrow.parquet as pq"
   ]
  },
  {
   "cell_type": "code",
   "execution_count": 3,
   "id": "5f5a6e92-89f2-4161-82f0-7f4eee0caf84",
   "metadata": {},
   "outputs": [],
   "source": [
    "# Spark session & context\n",
    "spark = SparkSession.builder.master(\"local\").getOrCreate()\n",
    "sc = spark.sparkContext"
   ]
  },
  {
   "cell_type": "code",
   "execution_count": 4,
   "id": "16eb8897-966f-4d32-b2cb-8c3ad2d2b3cd",
   "metadata": {},
   "outputs": [
    {
     "name": "stderr",
     "output_type": "stream",
     "text": [
      "WARNING:root:Requests made without an app_token will be subject to strict throttling limits.\n"
     ]
    }
   ],
   "source": [
    "client = Socrata(\"data.sfgov.org\", None)"
   ]
  },
  {
   "cell_type": "code",
   "execution_count": 5,
   "id": "fcc91277-fd48-4268-8521-aaeb44ed42f2",
   "metadata": {},
   "outputs": [],
   "source": [
    "results = client.get_all(\"wr8u-xric\") "
   ]
  },
  {
   "cell_type": "code",
   "execution_count": 6,
   "id": "f19bb7e3-2e86-495d-9466-504ce9ac7d17",
   "metadata": {},
   "outputs": [
    {
     "name": "stdout",
     "output_type": "stream",
     "text": [
      "Tempo execução: 0:05:12.889735\n"
     ]
    }
   ],
   "source": [
    "inicio = datetime.datetime.now()\n",
    "\n",
    "# Convert to pandas DataFrame\n",
    "pandasDF = pd.DataFrame.from_records(results)\n",
    "\n",
    "fim = datetime.datetime.now()\n",
    "print(f\"Execution time: {str(fim-inicio)}\")"
   ]
  },
  {
   "cell_type": "code",
   "execution_count": 11,
   "id": "8cdc0bf2-85d2-4a0b-96c4-57ee40b581d1",
   "metadata": {},
   "outputs": [
    {
     "name": "stdout",
     "output_type": "stream",
     "text": [
      "Tempo execução: 0:00:10.476984\n"
     ]
    }
   ],
   "source": [
    "inicio = datetime.datetime.now()\n",
    "\n",
    "# Convert DataFrame to Apache Arrow Table\n",
    "table = pa.Table.from_pandas(pandasDF)\n",
    "pq.write_table(table, \"./datalake/raw-data/fire_incidents.parquet\", compression='GZIP')\n",
    "\n",
    "fim = datetime.datetime.now()\n",
    "print(f\"Execution time: {str(fim-inicio)}\")"
   ]
  },
  {
   "cell_type": "code",
   "execution_count": 10,
   "id": "ca87c16a-7506-4ab7-93c8-e6f95b1a56d7",
   "metadata": {},
   "outputs": [
    {
     "name": "stdout",
     "output_type": "stream",
     "text": [
      "Current working directory: /home/jovyan\n"
     ]
    }
   ],
   "source": [
    "import os \n",
    "cwd = os.getcwd() \n",
    "print(\"Current working directory:\", cwd) "
   ]
  },
  {
   "cell_type": "code",
   "execution_count": null,
   "id": "342efb93-9bf8-4569-962a-c285ebc85571",
   "metadata": {},
   "outputs": [],
   "source": []
  }
 ],
 "metadata": {
  "kernelspec": {
   "display_name": "Python 3 (ipykernel)",
   "language": "python",
   "name": "python3"
  },
  "language_info": {
   "codemirror_mode": {
    "name": "ipython",
    "version": 3
   },
   "file_extension": ".py",
   "mimetype": "text/x-python",
   "name": "python",
   "nbconvert_exporter": "python",
   "pygments_lexer": "ipython3",
   "version": "3.11.6"
  }
 },
 "nbformat": 4,
 "nbformat_minor": 5
}
