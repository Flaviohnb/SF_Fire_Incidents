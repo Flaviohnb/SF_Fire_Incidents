{
 "cells": [
  {
   "cell_type": "code",
   "execution_count": 2,
   "id": "5f3726ed-a224-41d2-8812-5c263ea037cb",
   "metadata": {},
   "outputs": [],
   "source": [
    "from sodapy import Socrata\n",
    "from pyspark.sql import SparkSession\n",
    "import pyspark.sql.functions as F\n",
    "import datetime\n",
    "import pandas as pd\n",
    "import pyarrow as pa\n",
    "import pyarrow.parquet as pq"
   ]
  },
  {
   "cell_type": "code",
   "execution_count": 3,
   "id": "d9632b52-d7a2-4ab6-8cb4-77c04520ebb0",
   "metadata": {},
   "outputs": [],
   "source": [
    "# Spark session & context\n",
    "spark = SparkSession.builder.master(\"local\").getOrCreate()\n",
    "sc = spark.sparkContext"
   ]
  },
  {
   "cell_type": "code",
   "execution_count": 5,
   "id": "4a745f14-67c7-40d9-a316-e85d305b8438",
   "metadata": {},
   "outputs": [],
   "source": [
    "rawData_fireIncidents = spark.read.parquet('./../datalake/raw-data/fire_incidents.parquet') "
   ]
  },
  {
   "cell_type": "code",
   "execution_count": 6,
   "id": "afd4c671-0770-4ff1-80b0-666448cad18b",
   "metadata": {},
   "outputs": [],
   "source": [
    "consumerData_fireIncidents = (\n",
    "    rawData_fireIncidents\n",
    "    .select(\n",
    "        rawData_fireIncidents.incident_number,\n",
    "        rawData_fireIncidents.exposure_number.cast('int'),\n",
    "        rawData_fireIncidents.id,\n",
    "        rawData_fireIncidents.address,\n",
    "        F.to_timestamp(rawData_fireIncidents.incident_date, \"yyyy-MM-dd'T'HH:mm:ss\").alias('incident_date'),\n",
    "        rawData_fireIncidents.call_number,\n",
    "        F.to_timestamp(rawData_fireIncidents.alarm_dttm, \"yyyy-MM-dd'T'HH:mm:ss\").alias('alarm_dttm'),\n",
    "        F.to_timestamp(rawData_fireIncidents.arrival_dttm, \"yyyy-MM-dd'T'HH:mm:ss\").alias('arrival_dttm'),\n",
    "        F.to_timestamp(rawData_fireIncidents.close_dttm, \"yyyy-MM-dd'T'HH:mm:ss\").alias('close_dttm'),\n",
    "        rawData_fireIncidents.city,\n",
    "        rawData_fireIncidents.zipcode,\n",
    "        rawData_fireIncidents.battalion,\n",
    "        rawData_fireIncidents.station_area,\n",
    "        rawData_fireIncidents.suppression_units.cast('int'),\n",
    "        rawData_fireIncidents.suppression_personnel.cast('int'),\n",
    "        rawData_fireIncidents.ems_units.cast('int'),\n",
    "        rawData_fireIncidents.ems_personnel.cast('int'),\n",
    "        rawData_fireIncidents.other_units.cast('int'),\n",
    "        rawData_fireIncidents.other_personnel.cast('int'),\n",
    "        rawData_fireIncidents.first_unit_on_scene,\n",
    "        rawData_fireIncidents.fire_fatalities.cast('int'),\n",
    "        rawData_fireIncidents.fire_injuries.cast('int'),\n",
    "        rawData_fireIncidents.civilian_fatalities.cast('int'),\n",
    "        rawData_fireIncidents.civilian_injuries.cast('int'),\n",
    "        rawData_fireIncidents.number_of_alarms.cast('int'),\n",
    "        rawData_fireIncidents.primary_situation,\n",
    "        rawData_fireIncidents.mutual_aid,\n",
    "        rawData_fireIncidents.action_taken_primary,\n",
    "        rawData_fireIncidents.action_taken_secondary,\n",
    "        rawData_fireIncidents.action_taken_other,\n",
    "        rawData_fireIncidents.detector_alerted_occupants,\n",
    "        rawData_fireIncidents.property_use,\n",
    "        rawData_fireIncidents.supervisor_district,\n",
    "        rawData_fireIncidents.neighborhood_district,\n",
    "        # rawData_fireIncidents.point,\n",
    "        rawData_fireIncidents.point.coordinates[0].alias('point_longitude'), # longitude between -180, 180\n",
    "        rawData_fireIncidents.point.coordinates[1].alias('point_latitude'), # latitude between -90, 90        \n",
    "        rawData_fireIncidents.estimated_contents_loss.cast('int'),\n",
    "        rawData_fireIncidents.area_of_fire_origin,\n",
    "        rawData_fireIncidents.ignition_cause,\n",
    "        rawData_fireIncidents.ignition_factor_primary,\n",
    "        rawData_fireIncidents.ignition_factor_secondary,\n",
    "        rawData_fireIncidents.heat_source,\n",
    "        rawData_fireIncidents.item_first_ignited,\n",
    "        rawData_fireIncidents.human_factors_associated_with_ignition,\n",
    "        rawData_fireIncidents.estimated_property_loss.cast('int'),\n",
    "        rawData_fireIncidents.structure_type,\n",
    "        rawData_fireIncidents.structure_status,\n",
    "        rawData_fireIncidents.floor_of_fire_origin.cast('int'),\n",
    "        rawData_fireIncidents.fire_spread,\n",
    "        rawData_fireIncidents.no_flame_spead,\n",
    "        rawData_fireIncidents.number_of_floors_with_minimum_damage.cast('int'),\n",
    "        rawData_fireIncidents.number_of_floors_with_significant_damage.cast('int'),\n",
    "        rawData_fireIncidents.number_of_floors_with_heavy_damage.cast('int'),\n",
    "        rawData_fireIncidents.number_of_floors_with_extreme_damage.cast('int'),\n",
    "        rawData_fireIncidents.detectors_present,\n",
    "        rawData_fireIncidents.detector_type,\n",
    "        rawData_fireIncidents.detector_operation,\n",
    "        rawData_fireIncidents.detector_effectiveness,\n",
    "        rawData_fireIncidents.detector_failure_reason,\n",
    "        rawData_fireIncidents.automatic_extinguishing_system_present,\n",
    "        rawData_fireIncidents.automatic_extinguishing_sytem_type,\n",
    "        rawData_fireIncidents.automatic_extinguishing_sytem_perfomance,\n",
    "        rawData_fireIncidents.automatic_extinguishing_sytem_failure_reason,\n",
    "        rawData_fireIncidents.number_of_sprinkler_heads_operating.cast('int'),\n",
    "        rawData_fireIncidents.box\n",
    "    )\n",
    ")"
   ]
  },
  {
   "cell_type": "code",
   "execution_count": 10,
   "id": "900d1560-cf60-4c88-8b6c-b1bce5976837",
   "metadata": {},
   "outputs": [],
   "source": [
    "consumerData_fireIncidents.coalesce(1).write.mode('overwrite').parquet(\"./../datalake/consumer-data/fire_incidents\")"
   ]
  },
  {
   "cell_type": "code",
   "execution_count": null,
   "id": "a46ab044-a5d1-4707-9f9c-5208e933e816",
   "metadata": {},
   "outputs": [],
   "source": []
  }
 ],
 "metadata": {
  "kernelspec": {
   "display_name": "Python 3 (ipykernel)",
   "language": "python",
   "name": "python3"
  },
  "language_info": {
   "codemirror_mode": {
    "name": "ipython",
    "version": 3
   },
   "file_extension": ".py",
   "mimetype": "text/x-python",
   "name": "python",
   "nbconvert_exporter": "python",
   "pygments_lexer": "ipython3",
   "version": "3.11.6"
  }
 },
 "nbformat": 4,
 "nbformat_minor": 5
}
