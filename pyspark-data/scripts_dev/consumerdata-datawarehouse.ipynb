{
 "cells": [
  {
   "cell_type": "code",
   "execution_count": 1,
   "id": "1230c77d-3722-44a0-86be-c33a09e6c938",
   "metadata": {},
   "outputs": [],
   "source": [
    "try:\n",
    "    import psycopg2\n",
    "except ModuleNotFoundError:\n",
    "    !pip install psycopg2-binary"
   ]
  },
  {
   "cell_type": "code",
   "execution_count": 2,
   "id": "5f3726ed-a224-41d2-8812-5c263ea037cb",
   "metadata": {},
   "outputs": [],
   "source": [
    "from pyspark.sql import SparkSession\n",
    "import psycopg2 "
   ]
  },
  {
   "cell_type": "code",
   "execution_count": 3,
   "id": "d9632b52-d7a2-4ab6-8cb4-77c04520ebb0",
   "metadata": {},
   "outputs": [],
   "source": [
    "# Spark session & context\n",
    "spark = (\n",
    "    SparkSession\n",
    "    .builder\n",
    "    .config(\"spark.jars.packages\", \"org.postgresql:postgresql:42.5.2\")\n",
    "    .master(\"local\")\n",
    "    .getOrCreate()\n",
    ")\n",
    "\n",
    "sc = spark.sparkContext"
   ]
  },
  {
   "cell_type": "code",
   "execution_count": 4,
   "id": "4a745f14-67c7-40d9-a316-e85d305b8438",
   "metadata": {},
   "outputs": [],
   "source": [
    "consumerData_fireIncidents = spark.read.parquet('./../datalake/consumer-data/fire_incidents/*.parquet')"
   ]
  },
  {
   "cell_type": "code",
   "execution_count": 5,
   "id": "9104e805-c960-47b8-afbb-7317b4914278",
   "metadata": {},
   "outputs": [
    {
     "name": "stdout",
     "output_type": "stream",
     "text": [
      "root\n",
      " |-- incident_number: string (nullable = true)\n",
      " |-- exposure_number: integer (nullable = true)\n",
      " |-- id: string (nullable = true)\n",
      " |-- address: string (nullable = true)\n",
      " |-- incident_date: timestamp (nullable = true)\n",
      " |-- call_number: string (nullable = true)\n",
      " |-- alarm_dttm: timestamp (nullable = true)\n",
      " |-- arrival_dttm: timestamp (nullable = true)\n",
      " |-- close_dttm: timestamp (nullable = true)\n",
      " |-- city: string (nullable = true)\n",
      " |-- zipcode: string (nullable = true)\n",
      " |-- battalion: string (nullable = true)\n",
      " |-- station_area: string (nullable = true)\n",
      " |-- suppression_units: integer (nullable = true)\n",
      " |-- suppression_personnel: integer (nullable = true)\n",
      " |-- ems_units: integer (nullable = true)\n",
      " |-- ems_personnel: integer (nullable = true)\n",
      " |-- other_units: integer (nullable = true)\n",
      " |-- other_personnel: integer (nullable = true)\n",
      " |-- first_unit_on_scene: string (nullable = true)\n",
      " |-- fire_fatalities: integer (nullable = true)\n",
      " |-- fire_injuries: integer (nullable = true)\n",
      " |-- civilian_fatalities: integer (nullable = true)\n",
      " |-- civilian_injuries: integer (nullable = true)\n",
      " |-- number_of_alarms: integer (nullable = true)\n",
      " |-- primary_situation: string (nullable = true)\n",
      " |-- mutual_aid: string (nullable = true)\n",
      " |-- action_taken_primary: string (nullable = true)\n",
      " |-- action_taken_secondary: string (nullable = true)\n",
      " |-- action_taken_other: string (nullable = true)\n",
      " |-- detector_alerted_occupants: string (nullable = true)\n",
      " |-- property_use: string (nullable = true)\n",
      " |-- supervisor_district: string (nullable = true)\n",
      " |-- neighborhood_district: string (nullable = true)\n",
      " |-- point_longitude: double (nullable = true)\n",
      " |-- point_latitude: double (nullable = true)\n",
      " |-- estimated_contents_loss: integer (nullable = true)\n",
      " |-- area_of_fire_origin: string (nullable = true)\n",
      " |-- ignition_cause: string (nullable = true)\n",
      " |-- ignition_factor_primary: string (nullable = true)\n",
      " |-- ignition_factor_secondary: string (nullable = true)\n",
      " |-- heat_source: string (nullable = true)\n",
      " |-- item_first_ignited: string (nullable = true)\n",
      " |-- human_factors_associated_with_ignition: string (nullable = true)\n",
      " |-- estimated_property_loss: integer (nullable = true)\n",
      " |-- structure_type: string (nullable = true)\n",
      " |-- structure_status: string (nullable = true)\n",
      " |-- floor_of_fire_origin: integer (nullable = true)\n",
      " |-- fire_spread: string (nullable = true)\n",
      " |-- no_flame_spead: string (nullable = true)\n",
      " |-- number_of_floors_with_minimum_damage: integer (nullable = true)\n",
      " |-- number_of_floors_with_significant_damage: integer (nullable = true)\n",
      " |-- number_of_floors_with_heavy_damage: integer (nullable = true)\n",
      " |-- number_of_floors_with_extreme_damage: integer (nullable = true)\n",
      " |-- detectors_present: string (nullable = true)\n",
      " |-- detector_type: string (nullable = true)\n",
      " |-- detector_operation: string (nullable = true)\n",
      " |-- detector_effectiveness: string (nullable = true)\n",
      " |-- detector_failure_reason: string (nullable = true)\n",
      " |-- automatic_extinguishing_system_present: string (nullable = true)\n",
      " |-- automatic_extinguishing_sytem_type: string (nullable = true)\n",
      " |-- automatic_extinguishing_sytem_perfomance: string (nullable = true)\n",
      " |-- automatic_extinguishing_sytem_failure_reason: string (nullable = true)\n",
      " |-- number_of_sprinkler_heads_operating: integer (nullable = true)\n",
      " |-- box: string (nullable = true)\n",
      "\n"
     ]
    }
   ],
   "source": [
    "consumerData_fireIncidents.printSchema()"
   ]
  },
  {
   "cell_type": "code",
   "execution_count": 6,
   "id": "ad7dcc72-16f1-414a-977d-b38a5092d6c1",
   "metadata": {},
   "outputs": [],
   "source": [
    "properties = { \n",
    "    \"user\": \"postgres\",\n",
    "    \"password\": \"Postgres123!\",\n",
    "    \"driver\": \"org.postgresql.Driver\"\n",
    "}\n",
    "\n",
    "url = \"jdbc:postgresql://postgres-datawarehouse:5432/postgres\"\n",
    "result_table_name = \"fire_incidents\"\n",
    "\n",
    "consumerData_fireIncidents.write.jdbc(url, result_table_name, mode=\"overwrite\", properties=properties)"
   ]
  },
  {
   "cell_type": "code",
   "execution_count": null,
   "id": "7ea26cdb-4a2c-4440-ba40-523154d8b4e6",
   "metadata": {},
   "outputs": [],
   "source": []
  }
 ],
 "metadata": {
  "kernelspec": {
   "display_name": "Python 3 (ipykernel)",
   "language": "python",
   "name": "python3"
  },
  "language_info": {
   "codemirror_mode": {
    "name": "ipython",
    "version": 3
   },
   "file_extension": ".py",
   "mimetype": "text/x-python",
   "name": "python",
   "nbconvert_exporter": "python",
   "pygments_lexer": "ipython3",
   "version": "3.11.6"
  }
 },
 "nbformat": 4,
 "nbformat_minor": 5
}
