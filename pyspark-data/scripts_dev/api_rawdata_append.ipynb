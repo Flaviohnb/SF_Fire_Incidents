{
 "cells": [
  {
   "cell_type": "code",
   "execution_count": 2,
   "id": "4cb8a1eb-ca28-47b1-9f58-492176b62a5f",
   "metadata": {},
   "outputs": [],
   "source": [
    "#!pip install sodapy\n",
    "\n",
    "try:\n",
    "    from sodapy import Socrata\n",
    "except ModuleNotFoundError:\n",
    "    !pip install sodapy"
   ]
  },
  {
   "cell_type": "code",
   "execution_count": 3,
   "id": "93515421-d1ce-434e-9a0f-5a0314d6c3e8",
   "metadata": {},
   "outputs": [],
   "source": [
    "from sodapy import Socrata\n",
    "from pyspark.sql import SparkSession\n",
    "import pyspark.sql.functions as F\n",
    "import datetime\n",
    "import pandas as pd"
   ]
  },
  {
   "cell_type": "code",
   "execution_count": 4,
   "id": "5f5a6e92-89f2-4161-82f0-7f4eee0caf84",
   "metadata": {},
   "outputs": [],
   "source": [
    "# Spark session & context\n",
    "spark = SparkSession.builder.master(\"local\").getOrCreate()\n",
    "sc = spark.sparkContext"
   ]
  },
  {
   "cell_type": "code",
   "execution_count": 5,
   "id": "16eb8897-966f-4d32-b2cb-8c3ad2d2b3cd",
   "metadata": {},
   "outputs": [],
   "source": [
    "client = Socrata(\n",
    "    \"data.sfgov.org\", \n",
    "    \"\", # token\n",
    "    username=\"\",\n",
    "    password=\"\",\n",
    "    timeout=10\n",
    ")"
   ]
  },
  {
   "cell_type": "code",
   "execution_count": 6,
   "id": "a8d040df-9824-4629-8bb2-ae09a3bdb5dc",
   "metadata": {},
   "outputs": [],
   "source": [
    "has_true = True\n",
    "offset = 0\n",
    "limit = 100\n",
    "count = 0"
   ]
  },
  {
   "cell_type": "code",
   "execution_count": 7,
   "id": "f19bb7e3-2e86-495d-9466-504ce9ac7d17",
   "metadata": {},
   "outputs": [
    {
     "name": "stdout",
     "output_type": "stream",
     "text": [
      "Tempo execução: 0:02:08.281069\n",
      "Quantidade interações: 363\n"
     ]
    }
   ],
   "source": [
    "inicio = datetime.datetime.now()\n",
    "\n",
    "# create an Empty DataFrame object\n",
    "results_df = pd.DataFrame()\n",
    "\n",
    "while has_true:\n",
    "    \n",
    "    results = client.get(\"wr8u-xric\", where=\"incident_date >= '2023-01-01T00:00:00'\", offset=offset, limit=limit) \n",
    "    # Convert to pandas DataFrame\n",
    "    aux_df = pd.DataFrame.from_records(results)\n",
    "    \n",
    "    if len(results) < limit:\n",
    "        has_true = False\n",
    "\n",
    "    # concatenating results_df and aux_df along rows\n",
    "    results_df = pd.concat([results_df, aux_df], axis=0)\n",
    "\n",
    "    aux_df.drop(0,inplace=True)\n",
    "    offset += limit\n",
    "    count += 1\n",
    "\n",
    "fim = datetime.datetime.now()\n",
    "print(f\"Execution time: {str(fim-inicio)}\")\n",
    "print(f\"Interactions: {count}\")"
   ]
  },
  {
   "cell_type": "code",
   "execution_count": null,
   "id": "b8c76b16-e456-4139-9999-cc5c360a1665",
   "metadata": {},
   "outputs": [],
   "source": [
    "# Verify if the requests keys have all cols"
   ]
  },
  {
   "cell_type": "code",
   "execution_count": 9,
   "id": "868ee93a-057e-4e6e-8e1b-a0da1a3a2486",
   "metadata": {},
   "outputs": [],
   "source": [
    "dataframe_columns = list(results_df.columns)"
   ]
  },
  {
   "cell_type": "code",
   "execution_count": 10,
   "id": "4a0c9b0a-4664-4c48-b32b-8887ea60da0f",
   "metadata": {},
   "outputs": [],
   "source": [
    "default_columns = [\n",
    "    'incident_number', 'exposure_number', 'id', 'address', 'incident_date', 'call_number', 'alarm_dttm', 'arrival_dttm', 'close_dttm', 'city',\n",
    "    'zipcode', 'battalion', 'station_area', 'suppression_units', 'suppression_personnel', 'ems_units', 'ems_personnel', 'other_units', 'other_personnel',\n",
    "    'first_unit_on_scene', 'fire_fatalities', 'fire_injuries', 'civilian_fatalities', 'civilian_injuries', 'number_of_alarms', 'primary_situation', \n",
    "    'mutual_aid', 'action_taken_primary', 'action_taken_secondary', 'action_taken_other', 'detector_alerted_occupants', 'property_use', 'supervisor_district', \n",
    "    'neighborhood_district', 'point', 'estimated_contents_loss', 'area_of_fire_origin', 'ignition_cause', 'ignition_factor_primary', 'ignition_factor_secondary',\n",
    "    'heat_source', 'item_first_ignited', 'human_factors_associated_with_ignition', 'estimated_property_loss', 'structure_type', 'structure_status', 'floor_of_fire_origin',\n",
    "    'fire_spread', 'no_flame_spead', 'number_of_floors_with_minimum_damage', 'number_of_floors_with_significant_damage', 'number_of_floors_with_heavy_damage', \n",
    "    'number_of_floors_with_extreme_damage', 'detectors_present', 'detector_type', 'detector_operation', 'detector_effectiveness', 'detector_failure_reason',\n",
    "    'automatic_extinguishing_system_present', 'automatic_extinguishing_sytem_type', 'automatic_extinguishing_sytem_perfomance', 'automatic_extinguishing_sytem_failure_reason',\n",
    "    'number_of_sprinkler_heads_operating','box'\n",
    "]"
   ]
  },
  {
   "cell_type": "code",
   "execution_count": 11,
   "id": "faf7c9c0-186c-4126-8a3d-3686727c05ed",
   "metadata": {},
   "outputs": [],
   "source": [
    "diff_columns = list(set(default_columns) - set(dataframe_columns))"
   ]
  },
  {
   "cell_type": "code",
   "execution_count": 12,
   "id": "9ec17d3b-5b50-4308-9c15-26d601e25150",
   "metadata": {},
   "outputs": [],
   "source": [
    "sparkDF=spark.createDataFrame(results_df.astype(str))"
   ]
  },
  {
   "cell_type": "code",
   "execution_count": 13,
   "id": "97d04265-8302-4262-8215-6f33db9dffda",
   "metadata": {},
   "outputs": [],
   "source": [
    "for col in diff_columns:\n",
    "    sparkDF = sparkDF.withColumn(col, F.lit(None))"
   ]
  },
  {
   "cell_type": "code",
   "execution_count": null,
   "id": "e61d1be1-d3f6-43ec-b66b-f22e80aec5ed",
   "metadata": {},
   "outputs": [],
   "source": [
    "# Save on datalake..."
   ]
  }
 ],
 "metadata": {
  "kernelspec": {
   "display_name": "Python 3 (ipykernel)",
   "language": "python",
   "name": "python3"
  },
  "language_info": {
   "codemirror_mode": {
    "name": "ipython",
    "version": 3
   },
   "file_extension": ".py",
   "mimetype": "text/x-python",
   "name": "python",
   "nbconvert_exporter": "python",
   "pygments_lexer": "ipython3",
   "version": "3.11.6"
  }
 },
 "nbformat": 4,
 "nbformat_minor": 5
}
